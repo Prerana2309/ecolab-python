{
    "metadata": {
        "kernelspec": {
            "name": "SQL",
            "display_name": "SQL",
            "language": "sql"
        },
        "language_info": {
            "name": "sql",
            "version": ""
        }
    },
    "nbformat_minor": 2,
    "nbformat": 4,
    "cells": [
        {
            "cell_type": "code",
            "source": [
                "CREATE DATABASE BOOK_REVIEW_DB;"
            ],
            "metadata": {
                "azdata_cell_guid": "b719bcb4-0c33-4585-a4a5-ea308cb4729e",
                "language": "sql"
            },
            "outputs": [
                {
                    "output_type": "display_data",
                    "data": {
                        "text/html": "Commands completed successfully."
                    },
                    "metadata": {}
                },
                {
                    "output_type": "display_data",
                    "data": {
                        "text/html": "Total execution time: 00:00:00.706"
                    },
                    "metadata": {}
                }
            ],
            "execution_count": 1
        },
        {
            "cell_type": "code",
            "source": [
                "USE BOOK_REVIEW_DB;"
            ],
            "metadata": {
                "azdata_cell_guid": "53989963-0eb7-4f90-896d-e6c4ef542e3e",
                "language": "sql"
            },
            "outputs": [
                {
                    "output_type": "display_data",
                    "data": {
                        "text/html": "Commands completed successfully."
                    },
                    "metadata": {}
                },
                {
                    "output_type": "display_data",
                    "data": {
                        "text/html": "Total execution time: 00:00:00.209"
                    },
                    "metadata": {}
                }
            ],
            "execution_count": 2
        },
        {
            "cell_type": "code",
            "source": [
                "Create Table publisher\r\n",
                "    (\r\n",
                "        id VARCHAR(100) PRIMARY KEY, \r\n",
                "        publisher_name VARCHAR(100) NOT NULL,\r\n",
                "        publisher_address VARCHAR(100) NOT NULL,\r\n",
                "        publish_website VARCHAR(100) NOT NULL\r\n",
                "    );\r\n",
                "     "
            ],
            "metadata": {
                "language": "sql",
                "azdata_cell_guid": "597c4906-5687-4696-9a9c-ba78c0b2f694"
            },
            "outputs": [
                {
                    "output_type": "display_data",
                    "data": {
                        "text/html": "Commands completed successfully."
                    },
                    "metadata": {}
                },
                {
                    "output_type": "display_data",
                    "data": {
                        "text/html": "Total execution time: 00:00:00.072"
                    },
                    "metadata": {}
                }
            ],
            "execution_count": 4
        },
        {
            "cell_type": "code",
            "source": [
                "Create table book\r\n",
                "(\r\n",
                "    id VARCHAR(100) PRIMARY KEY,\r\n",
                "    book_title VARCHAR(100) NOT NULL\r\n",
                ");"
            ],
            "metadata": {
                "language": "sql",
                "azdata_cell_guid": "3a7f8149-dfcf-4a05-836b-3bf4568de8f1",
                "tags": []
            },
            "outputs": [
                {
                    "output_type": "display_data",
                    "data": {
                        "text/html": "Commands completed successfully."
                    },
                    "metadata": {}
                },
                {
                    "output_type": "display_data",
                    "data": {
                        "text/html": "Total execution time: 00:00:00.047"
                    },
                    "metadata": {}
                }
            ],
            "execution_count": 6
        },
        {
            "cell_type": "code",
            "source": [
                "\r\n",
                "CREATE TABLE ISBN\r\n",
                "    (\r\n",
                "        isbn VARCHAR(100) PRIMARY KEY,\r\n",
                "        format VARCHAR(100) NOT NULL,\r\n",
                "        price INT NOT NULL,\r\n",
                "        cover VARCHAR(100) NOT NULL,\r\n",
                "        book_id VARCHAR(100) NOT NULL FOREIGN KEY REFERENCES book(id),\r\n",
                "        publisher_id VARCHAR(100) NOT NULL FOREIGN KEY REFERENCES publisher(id)\r\n",
                "    )"
            ],
            "metadata": {
                "language": "sql",
                "azdata_cell_guid": "9eda6e41-e05c-4dca-bdb9-81697fabe18f",
                "tags": []
            },
            "outputs": [
                {
                    "output_type": "display_data",
                    "data": {
                        "text/html": "Commands completed successfully."
                    },
                    "metadata": {}
                },
                {
                    "output_type": "display_data",
                    "data": {
                        "text/html": "Total execution time: 00:00:00.082"
                    },
                    "metadata": {}
                }
            ],
            "execution_count": 7
        },
        {
            "cell_type": "code",
            "source": [
                "CREATE TABLE reviewer\r\n",
                "    (\r\n",
                "        id VARCHAR(100) PRIMARY KEY,\r\n",
                "        reviewer_name VARCHAR(100) NOT NULL,\r\n",
                "        reviewer_email VARCHAR(100) UNIQUE NOT NULL\r\n",
                "    );"
            ],
            "metadata": {
                "language": "sql",
                "azdata_cell_guid": "c7b19b1b-9ddf-403a-822c-0d04b33e3aeb"
            },
            "outputs": [
                {
                    "output_type": "display_data",
                    "data": {
                        "text/html": "Commands completed successfully."
                    },
                    "metadata": {}
                },
                {
                    "output_type": "display_data",
                    "data": {
                        "text/html": "Total execution time: 00:00:00.073"
                    },
                    "metadata": {}
                }
            ],
            "execution_count": 8
        },
        {
            "cell_type": "code",
            "source": [
                "\r\n",
                "CREATE TABLE reviews\r\n",
                "    (\r\n",
                "        title VARCHAR(100) NOT NULL,\r\n",
                "        details VARCHAR(100) NOT NULL,\r\n",
                "        rating INT NOT NULL,\r\n",
                "        book_id VARCHAR(100) NOT NULL FOREIGN KEY REFERENCES book(id),\r\n",
                "        reviewer_id VARCHAR(100) NOT NULL FOREIGN KEY REFERENCES reviewer(id),\r\n",
                "        PRIMARY KEY (book_id, reviewer_id)\r\n",
                "    );"
            ],
            "metadata": {
                "language": "sql",
                "azdata_cell_guid": "48c94f66-e636-43dc-bd6c-46f4e680ca46"
            },
            "outputs": [
                {
                    "output_type": "display_data",
                    "data": {
                        "text/html": "Commands completed successfully."
                    },
                    "metadata": {}
                },
                {
                    "output_type": "display_data",
                    "data": {
                        "text/html": "Total execution time: 00:00:00.069"
                    },
                    "metadata": {}
                }
            ],
            "execution_count": 9
        },
        {
            "cell_type": "code",
            "source": [
                "INSERT INTO publisher\r\n",
                "    (\r\n",
                "        id,\r\n",
                "        publisher_name, \r\n",
                "        publisher_address,\r\n",
                "        publish_website\r\n",
                "    )\r\n",
                "VALUES\r\n",
                "    (\r\n",
                "        'aksharan',\r\n",
                "        'Aksharan',\r\n",
                "        'pune',\r\n",
                "        'web1'\r\n",
                "    ),\r\n",
                "    (\r\n",
                "        'lost-epic',\r\n",
                "        'Lost Epic',\r\n",
                "        'bangalore',\r\n",
                "        'web2'\r\n",
                "    ),\r\n",
                "    (\r\n",
                "        'edu-world',\r\n",
                "        'Edu World',\r\n",
                "        'delhi',\r\n",
                "        'web3'\r\n",
                "    ),\r\n",
                "    (\r\n",
                "        'penguin',\r\n",
                "        'Penguin',\r\n",
                "        'london',\r\n",
                "        'web4'\r\n",
                "    )"
            ],
            "metadata": {
                "language": "sql",
                "azdata_cell_guid": "e34b891a-8698-495a-9486-2fd31aed3d5a"
            },
            "outputs": [
                {
                    "output_type": "display_data",
                    "data": {
                        "text/html": "(4 rows affected)"
                    },
                    "metadata": {}
                },
                {
                    "output_type": "display_data",
                    "data": {
                        "text/html": "Total execution time: 00:00:00.004"
                    },
                    "metadata": {}
                }
            ],
            "execution_count": 12
        },
        {
            "cell_type": "code",
            "source": [
                "\r\n",
                "INSERT into book\r\n",
                "    (\r\n",
                "        id,\r\n",
                "        book_title\r\n",
                "    )\r\n",
                "VALUES\r\n",
                "    (\r\n",
                "        'manas',\r\n",
                "        'Manas'\r\n",
                "    ),\r\n",
                "    (\r\n",
                "        'the-accursed-god',\r\n",
                "        'The Accursed God'\r\n",
                "    ),\r\n",
                "    (\r\n",
                "        'rashmirathi',\r\n",
                "        'Rashmirathi'\r\n",
                "    );"
            ],
            "metadata": {
                "language": "sql",
                "azdata_cell_guid": "02e9dfda-cafc-4246-8d94-9f773542f8d5"
            },
            "outputs": [
                {
                    "output_type": "display_data",
                    "data": {
                        "text/html": "(3 rows affected)"
                    },
                    "metadata": {}
                },
                {
                    "output_type": "display_data",
                    "data": {
                        "text/html": "Total execution time: 00:00:00.072"
                    },
                    "metadata": {}
                }
            ],
            "execution_count": 13
        },
        {
            "cell_type": "code",
            "source": [
                "INSERT INTO isbn \r\n",
                "    (\r\n",
                "        isbn,\r\n",
                "        format,\r\n",
                "        price,\r\n",
                "        cover,\r\n",
                "        book_id,\r\n",
                "        publisher_id\r\n",
                "    )\r\n",
                "VALUES\r\n",
                "    (\r\n",
                "        '11234',\r\n",
                "        'paperback',\r\n",
                "        299,\r\n",
                "        'manas_pb',\r\n",
                "        'manas',\r\n",
                "        'aksharan'\r\n",
                "    ),\r\n",
                "    (\r\n",
                "        '11235',\r\n",
                "        'ebook',\r\n",
                "        49,\r\n",
                "        'manas_f',\r\n",
                "        'manas',\r\n",
                "        'lost-epic'\r\n",
                "    ),\r\n",
                "    (\r\n",
                "        '11236',\r\n",
                "        'paperback',\r\n",
                "        399,\r\n",
                "        'tag',\r\n",
                "        'the-accursed-god',\r\n",
                "        'edu-world'\r\n",
                "    ),\r\n",
                "    (\r\n",
                "        '11237',\r\n",
                "        'ebook',\r\n",
                "        119,\r\n",
                "        'tag',\r\n",
                "        'the-accursed-god',\r\n",
                "        'lost-epic'\r\n",
                "    ),\r\n",
                "    (\r\n",
                "        '11238',\r\n",
                "        'ebook',\r\n",
                "        159,\r\n",
                "        'rashimirathi',\r\n",
                "        'rashmirathi',\r\n",
                "        'penguin'\r\n",
                "    );"
            ],
            "metadata": {
                "language": "sql",
                "azdata_cell_guid": "73fd2019-0392-48bd-8411-597f8bee7b19"
            },
            "outputs": [
                {
                    "output_type": "display_data",
                    "data": {
                        "text/html": "(5 rows affected)"
                    },
                    "metadata": {}
                },
                {
                    "output_type": "display_data",
                    "data": {
                        "text/html": "Total execution time: 00:00:00.017"
                    },
                    "metadata": {}
                }
            ],
            "execution_count": 14
        },
        {
            "cell_type": "code",
            "source": [
                "INSERT into reviewer\r\n",
                "    (\r\n",
                "        id,\r\n",
                "        reviewer_name,\r\n",
                "        reviewer_email\r\n",
                "    )\r\n",
                "VALUES\r\n",
                "    (\r\n",
                "        1,\r\n",
                "        'Prerana',\r\n",
                "        'prerana.rao@ecolab.com'\r\n",
                "    ),\r\n",
                "    (\r\n",
                "        2,\r\n",
                "        'Joseph',\r\n",
                "        'Joseph23@google.com'\r\n",
                "    ),\r\n",
                "    (\r\n",
                "        3,\r\n",
                "        'Steve',\r\n",
                "        'steve@yahoo.com'\r\n",
                "    ),\r\n",
                "    (\r\n",
                "        4,\r\n",
                "        'Alice',\r\n",
                "        'Alice@google.com'\r\n",
                "    );"
            ],
            "metadata": {
                "language": "sql",
                "azdata_cell_guid": "03e21948-ca2e-4582-a587-a7fe5f55b40d"
            },
            "outputs": [
                {
                    "output_type": "display_data",
                    "data": {
                        "text/html": "(4 rows affected)"
                    },
                    "metadata": {}
                },
                {
                    "output_type": "display_data",
                    "data": {
                        "text/html": "Total execution time: 00:00:00.074"
                    },
                    "metadata": {}
                }
            ],
            "execution_count": 17
        },
        {
            "cell_type": "code",
            "source": [
                "INSERT into reviews\r\n",
                "    (\r\n",
                "        book_id,\r\n",
                "        reviewer_id,\r\n",
                "        title,\r\n",
                "        details,\r\n",
                "        rating\r\n",
                "    )\r\n",
                "VALUES\r\n",
                "    (\r\n",
                "        'manas',\r\n",
                "        1,\r\n",
                "        'interesting one',\r\n",
                "        'details 1',\r\n",
                "        4\r\n",
                "    ),\r\n",
                "    (\r\n",
                "        'manas',\r\n",
                "        4,\r\n",
                "        'good',\r\n",
                "        'details 2',\r\n",
                "        3\r\n",
                "    ),\r\n",
                "    (\r\n",
                "        'the-accursed-god',\r\n",
                "        1,\r\n",
                "        'must read',\r\n",
                "        'details 1',\r\n",
                "        5\r\n",
                "    ),\r\n",
                "    (\r\n",
                "        'the-accursed-god',\r\n",
                "        2,\r\n",
                "        'amazing',\r\n",
                "        'details 2',\r\n",
                "        4\r\n",
                "    ),\r\n",
                "    (\r\n",
                "        'rashmirathi',\r\n",
                "        3,\r\n",
                "        'not worth reading',\r\n",
                "        'details 1',\r\n",
                "        2\r\n",
                "    );"
            ],
            "metadata": {
                "language": "sql",
                "azdata_cell_guid": "fa16b9d9-880d-4108-b974-63a53d09c5a7"
            },
            "outputs": [
                {
                    "output_type": "display_data",
                    "data": {
                        "text/html": "(5 rows affected)"
                    },
                    "metadata": {}
                },
                {
                    "output_type": "display_data",
                    "data": {
                        "text/html": "Total execution time: 00:00:00.077"
                    },
                    "metadata": {}
                }
            ],
            "execution_count": 25
        },
        {
            "cell_type": "code",
            "source": [
                "select * from publisher;"
            ],
            "metadata": {
                "language": "sql",
                "azdata_cell_guid": "110706bb-39a5-457f-83fd-52893324fb93"
            },
            "outputs": [
                {
                    "output_type": "display_data",
                    "data": {
                        "text/html": "(4 rows affected)"
                    },
                    "metadata": {}
                },
                {
                    "output_type": "display_data",
                    "data": {
                        "text/html": "Total execution time: 00:00:00.008"
                    },
                    "metadata": {}
                },
                {
                    "output_type": "execute_result",
                    "metadata": {},
                    "execution_count": 18,
                    "data": {
                        "application/vnd.dataresource+json": {
                            "schema": {
                                "fields": [
                                    {
                                        "name": "id"
                                    },
                                    {
                                        "name": "publisher_name"
                                    },
                                    {
                                        "name": "publisher_address"
                                    },
                                    {
                                        "name": "publish_website"
                                    }
                                ]
                            },
                            "data": [
                                {
                                    "id": "aksharan",
                                    "publisher_name": "Aksharan",
                                    "publisher_address": "pune",
                                    "publish_website": "web1"
                                },
                                {
                                    "id": "edu-world",
                                    "publisher_name": "Edu World",
                                    "publisher_address": "delhi",
                                    "publish_website": "web3"
                                },
                                {
                                    "id": "lost-epic",
                                    "publisher_name": "Lost Epic",
                                    "publisher_address": "bangalore",
                                    "publish_website": "web2"
                                },
                                {
                                    "id": "penguin",
                                    "publisher_name": "Penguin",
                                    "publisher_address": "london",
                                    "publish_website": "web4"
                                }
                            ]
                        },
                        "text/html": [
                            "<table>",
                            "<tr><th>id</th><th>publisher_name</th><th>publisher_address</th><th>publish_website</th></tr>",
                            "<tr><td>aksharan</td><td>Aksharan</td><td>pune</td><td>web1</td></tr>",
                            "<tr><td>edu-world</td><td>Edu World</td><td>delhi</td><td>web3</td></tr>",
                            "<tr><td>lost-epic</td><td>Lost Epic</td><td>bangalore</td><td>web2</td></tr>",
                            "<tr><td>penguin</td><td>Penguin</td><td>london</td><td>web4</td></tr>",
                            "</table>"
                        ]
                    }
                }
            ],
            "execution_count": 18
        },
        {
            "cell_type": "code",
            "source": [
                "select * from book;"
            ],
            "metadata": {
                "language": "sql",
                "azdata_cell_guid": "51ef51c8-2f3f-4a88-84a9-4cc004a613f3"
            },
            "outputs": [
                {
                    "output_type": "display_data",
                    "data": {
                        "text/html": "(3 rows affected)"
                    },
                    "metadata": {}
                },
                {
                    "output_type": "display_data",
                    "data": {
                        "text/html": "Total execution time: 00:00:00.016"
                    },
                    "metadata": {}
                },
                {
                    "output_type": "execute_result",
                    "metadata": {},
                    "execution_count": 19,
                    "data": {
                        "application/vnd.dataresource+json": {
                            "schema": {
                                "fields": [
                                    {
                                        "name": "id"
                                    },
                                    {
                                        "name": "book_title"
                                    }
                                ]
                            },
                            "data": [
                                {
                                    "id": "manas",
                                    "book_title": "Manas"
                                },
                                {
                                    "id": "rashmirathi",
                                    "book_title": "Rashmirathi"
                                },
                                {
                                    "id": "the-accursed-god",
                                    "book_title": "The Accursed God"
                                }
                            ]
                        },
                        "text/html": [
                            "<table>",
                            "<tr><th>id</th><th>book_title</th></tr>",
                            "<tr><td>manas</td><td>Manas</td></tr>",
                            "<tr><td>rashmirathi</td><td>Rashmirathi</td></tr>",
                            "<tr><td>the-accursed-god</td><td>The Accursed God</td></tr>",
                            "</table>"
                        ]
                    }
                }
            ],
            "execution_count": 19
        },
        {
            "cell_type": "code",
            "source": [
                "select * from isbn;"
            ],
            "metadata": {
                "language": "sql",
                "azdata_cell_guid": "0f7552b0-ee8a-45b4-a13b-f8603273105f"
            },
            "outputs": [
                {
                    "output_type": "display_data",
                    "data": {
                        "text/html": "(5 rows affected)"
                    },
                    "metadata": {}
                },
                {
                    "output_type": "display_data",
                    "data": {
                        "text/html": "Total execution time: 00:00:00.007"
                    },
                    "metadata": {}
                },
                {
                    "output_type": "execute_result",
                    "metadata": {},
                    "execution_count": 20,
                    "data": {
                        "application/vnd.dataresource+json": {
                            "schema": {
                                "fields": [
                                    {
                                        "name": "isbn"
                                    },
                                    {
                                        "name": "format"
                                    },
                                    {
                                        "name": "price"
                                    },
                                    {
                                        "name": "cover"
                                    },
                                    {
                                        "name": "book_id"
                                    },
                                    {
                                        "name": "publisher_id"
                                    }
                                ]
                            },
                            "data": [
                                {
                                    "isbn": "11234",
                                    "format": "paperback",
                                    "price": "299",
                                    "cover": "manas_pb",
                                    "book_id": "manas",
                                    "publisher_id": "aksharan"
                                },
                                {
                                    "isbn": "11235",
                                    "format": "ebook",
                                    "price": "49",
                                    "cover": "manas_f",
                                    "book_id": "manas",
                                    "publisher_id": "lost-epic"
                                },
                                {
                                    "isbn": "11236",
                                    "format": "paperback",
                                    "price": "399",
                                    "cover": "tag",
                                    "book_id": "the-accursed-god",
                                    "publisher_id": "edu-world"
                                },
                                {
                                    "isbn": "11237",
                                    "format": "ebook",
                                    "price": "119",
                                    "cover": "tag",
                                    "book_id": "the-accursed-god",
                                    "publisher_id": "lost-epic"
                                },
                                {
                                    "isbn": "11238",
                                    "format": "ebook",
                                    "price": "159",
                                    "cover": "rashimirathi",
                                    "book_id": "rashmirathi",
                                    "publisher_id": "penguin"
                                }
                            ]
                        },
                        "text/html": [
                            "<table>",
                            "<tr><th>isbn</th><th>format</th><th>price</th><th>cover</th><th>book_id</th><th>publisher_id</th></tr>",
                            "<tr><td>11234</td><td>paperback</td><td>299</td><td>manas_pb</td><td>manas</td><td>aksharan</td></tr>",
                            "<tr><td>11235</td><td>ebook</td><td>49</td><td>manas_f</td><td>manas</td><td>lost-epic</td></tr>",
                            "<tr><td>11236</td><td>paperback</td><td>399</td><td>tag</td><td>the-accursed-god</td><td>edu-world</td></tr>",
                            "<tr><td>11237</td><td>ebook</td><td>119</td><td>tag</td><td>the-accursed-god</td><td>lost-epic</td></tr>",
                            "<tr><td>11238</td><td>ebook</td><td>159</td><td>rashimirathi</td><td>rashmirathi</td><td>penguin</td></tr>",
                            "</table>"
                        ]
                    }
                }
            ],
            "execution_count": 20
        },
        {
            "cell_type": "code",
            "source": [
                "select * from reviewer;"
            ],
            "metadata": {
                "language": "sql",
                "azdata_cell_guid": "2cbb6cd2-7a6c-4557-aa97-da707fe8be77"
            },
            "outputs": [
                {
                    "output_type": "display_data",
                    "data": {
                        "text/html": "(4 rows affected)"
                    },
                    "metadata": {}
                },
                {
                    "output_type": "display_data",
                    "data": {
                        "text/html": "Total execution time: 00:00:00.006"
                    },
                    "metadata": {}
                },
                {
                    "output_type": "execute_result",
                    "metadata": {},
                    "execution_count": 23,
                    "data": {
                        "application/vnd.dataresource+json": {
                            "schema": {
                                "fields": [
                                    {
                                        "name": "id"
                                    },
                                    {
                                        "name": "reviewer_name"
                                    },
                                    {
                                        "name": "reviewer_email"
                                    }
                                ]
                            },
                            "data": [
                                {
                                    "id": "1",
                                    "reviewer_name": "Prerana",
                                    "reviewer_email": "prerana.rao@ecolab.com"
                                },
                                {
                                    "id": "2",
                                    "reviewer_name": "Joseph",
                                    "reviewer_email": "Joseph23@google.com"
                                },
                                {
                                    "id": "3",
                                    "reviewer_name": "Steve",
                                    "reviewer_email": "steve@yahoo.com"
                                },
                                {
                                    "id": "4",
                                    "reviewer_name": "Alice",
                                    "reviewer_email": "Alice@google.com"
                                }
                            ]
                        },
                        "text/html": [
                            "<table>",
                            "<tr><th>id</th><th>reviewer_name</th><th>reviewer_email</th></tr>",
                            "<tr><td>1</td><td>Prerana</td><td>prerana.rao@ecolab.com</td></tr>",
                            "<tr><td>2</td><td>Joseph</td><td>Joseph23@google.com</td></tr>",
                            "<tr><td>3</td><td>Steve</td><td>steve@yahoo.com</td></tr>",
                            "<tr><td>4</td><td>Alice</td><td>Alice@google.com</td></tr>",
                            "</table>"
                        ]
                    }
                }
            ],
            "execution_count": 23
        },
        {
            "cell_type": "code",
            "source": [
                "select * from reviews;"
            ],
            "metadata": {
                "language": "sql",
                "azdata_cell_guid": "1d95fde7-6f62-499e-bd0b-fb0fc84120b2"
            },
            "outputs": [
                {
                    "output_type": "display_data",
                    "data": {
                        "text/html": "(5 rows affected)"
                    },
                    "metadata": {}
                },
                {
                    "output_type": "display_data",
                    "data": {
                        "text/html": "Total execution time: 00:00:00.003"
                    },
                    "metadata": {}
                },
                {
                    "output_type": "execute_result",
                    "metadata": {},
                    "execution_count": 26,
                    "data": {
                        "application/vnd.dataresource+json": {
                            "schema": {
                                "fields": [
                                    {
                                        "name": "title"
                                    },
                                    {
                                        "name": "details"
                                    },
                                    {
                                        "name": "rating"
                                    },
                                    {
                                        "name": "book_id"
                                    },
                                    {
                                        "name": "reviewer_id"
                                    }
                                ]
                            },
                            "data": [
                                {
                                    "title": "interesting one",
                                    "details": "details 1",
                                    "rating": "4",
                                    "book_id": "manas",
                                    "reviewer_id": "1"
                                },
                                {
                                    "title": "good",
                                    "details": "details 2",
                                    "rating": "3",
                                    "book_id": "manas",
                                    "reviewer_id": "4"
                                },
                                {
                                    "title": "not worth reading",
                                    "details": "details 1",
                                    "rating": "2",
                                    "book_id": "rashmirathi",
                                    "reviewer_id": "3"
                                },
                                {
                                    "title": "must read",
                                    "details": "details 1",
                                    "rating": "5",
                                    "book_id": "the-accursed-god",
                                    "reviewer_id": "1"
                                },
                                {
                                    "title": "amazing",
                                    "details": "details 2",
                                    "rating": "4",
                                    "book_id": "the-accursed-god",
                                    "reviewer_id": "2"
                                }
                            ]
                        },
                        "text/html": [
                            "<table>",
                            "<tr><th>title</th><th>details</th><th>rating</th><th>book_id</th><th>reviewer_id</th></tr>",
                            "<tr><td>interesting one</td><td>details 1</td><td>4</td><td>manas</td><td>1</td></tr>",
                            "<tr><td>good</td><td>details 2</td><td>3</td><td>manas</td><td>4</td></tr>",
                            "<tr><td>not worth reading</td><td>details 1</td><td>2</td><td>rashmirathi</td><td>3</td></tr>",
                            "<tr><td>must read</td><td>details 1</td><td>5</td><td>the-accursed-god</td><td>1</td></tr>",
                            "<tr><td>amazing</td><td>details 2</td><td>4</td><td>the-accursed-god</td><td>2</td></tr>",
                            "</table>"
                        ]
                    }
                }
            ],
            "execution_count": 26
        }
    ]
}