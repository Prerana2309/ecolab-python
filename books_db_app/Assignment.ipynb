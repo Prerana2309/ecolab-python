{
    "metadata": {
        "kernelspec": {
            "name": "SQL",
            "display_name": "SQL",
            "language": "sql"
        },
        "language_info": {
            "name": "sql",
            "version": ""
        }
    },
    "nbformat_minor": 2,
    "nbformat": 4,
    "cells": [
        {
            "cell_type": "code",
            "source": [
                "use booksdb"
            ],
            "metadata": {
                "azdata_cell_guid": "bcddd598-af54-4e01-b6c0-4168a816cd9a",
                "language": "sql"
            },
            "outputs": [
                {
                    "output_type": "display_data",
                    "data": {
                        "text/html": "Commands completed successfully."
                    },
                    "metadata": {}
                },
                {
                    "output_type": "display_data",
                    "data": {
                        "text/html": "Total execution time: 00:00:00"
                    },
                    "metadata": {}
                }
            ],
            "execution_count": 6
        },
        {
            "cell_type": "code",
            "source": [
                "create table authors(\r\n",
                "\r\n",
                "    author_id VARCHAR(100) NOT NULL PRIMARY KEY,\r\n",
                "\r\n",
                "    author_name VARCHAR(100) NOT NULL\r\n",
                "\r\n",
                ");"
            ],
            "metadata": {
                "language": "sql",
                "azdata_cell_guid": "da277515-ce2b-49f4-9edb-66d582020449"
            },
            "outputs": [
                {
                    "output_type": "display_data",
                    "data": {
                        "text/html": "Commands completed successfully."
                    },
                    "metadata": {}
                },
                {
                    "output_type": "display_data",
                    "data": {
                        "text/html": "Total execution time: 00:00:00.003"
                    },
                    "metadata": {}
                }
            ],
            "execution_count": 11
        },
        {
            "cell_type": "code",
            "source": [
                "ALTER TABLE authors\r\n",
                "\r\n",
                "ADD author_bio VARCHAR(100);"
            ],
            "metadata": {
                "language": "sql",
                "azdata_cell_guid": "ced1d007-48a8-45d7-b2cf-e76217e8ec8b",
                "tags": []
            },
            "outputs": [
                {
                    "output_type": "display_data",
                    "data": {
                        "text/html": "Commands completed successfully."
                    },
                    "metadata": {}
                },
                {
                    "output_type": "display_data",
                    "data": {
                        "text/html": "Total execution time: 00:00:00.004"
                    },
                    "metadata": {}
                }
            ],
            "execution_count": 14
        },
        {
            "cell_type": "code",
            "source": [
                "Select * from books;"
            ],
            "metadata": {
                "language": "sql",
                "azdata_cell_guid": "ab2523f7-9e30-44a4-ac77-d7628f790cde"
            },
            "outputs": [
                {
                    "output_type": "display_data",
                    "data": {
                        "text/html": "(17 rows affected)"
                    },
                    "metadata": {}
                },
                {
                    "output_type": "display_data",
                    "data": {
                        "text/html": "Total execution time: 00:00:00.072"
                    },
                    "metadata": {}
                },
                {
                    "output_type": "execute_result",
                    "metadata": {},
                    "execution_count": 56,
                    "data": {
                        "application/vnd.dataresource+json": {
                            "schema": {
                                "fields": [
                                    {
                                        "name": "id"
                                    },
                                    {
                                        "name": "title"
                                    },
                                    {
                                        "name": "price"
                                    },
                                    {
                                        "name": "author_id"
                                    }
                                ]
                            },
                            "data": [
                                {
                                    "id": "five-point-someone",
                                    "title": "Five Point SomeOne",
                                    "price": "250",
                                    "author_id": "cb23"
                                },
                                {
                                    "id": "harry-potter-1",
                                    "title": "Harry Potter and the Soccers Stone",
                                    "price": "250",
                                    "author_id": "jkr78"
                                },
                                {
                                    "id": "harry-potter-2",
                                    "title": "Harry Potter and the Chambers of Secrets",
                                    "price": "350",
                                    "author_id": "jkr78"
                                },
                                {
                                    "id": "harry-potter-3",
                                    "title": "Harry Potter and the Prisoner of Askaban",
                                    "price": "350",
                                    "author_id": "jkr78"
                                },
                                {
                                    "id": "harry-potter-4",
                                    "title": "Harry Potter and the Goblet of Fire",
                                    "price": "450",
                                    "author_id": "jkr78"
                                },
                                {
                                    "id": "harry-potter-5",
                                    "title": "Harry Potter and the Order of Phoenix",
                                    "price": "450",
                                    "author_id": "jkr78"
                                },
                                {
                                    "id": "harry-potter-6",
                                    "title": "Harry Potter and the Half Blood Prince",
                                    "price": "450",
                                    "author_id": "jkr78"
                                },
                                {
                                    "id": "harry-potter-7",
                                    "title": "Harry Potter and the Deathly Hollows",
                                    "price": "350",
                                    "author_id": "jkr78"
                                },
                                {
                                    "id": "kane-and-abel",
                                    "title": "Kane and Abel",
                                    "price": "450",
                                    "author_id": "ja123"
                                },
                                {
                                    "id": "kurukshetra",
                                    "title": "Kurukshetra",
                                    "price": "450",
                                    "author_id": "rsd45"
                                },
                                {
                                    "id": "manas",
                                    "title": "Manas",
                                    "price": "199",
                                    "author_id": "vdm56"
                                },
                                {
                                    "id": "rashmirathi",
                                    "title": "Rashmirathi",
                                    "price": "190",
                                    "author_id": "rsd45"
                                },
                                {
                                    "id": "scion-of-ikshavaku",
                                    "title": "The Scion of Ikshavaku",
                                    "price": "300",
                                    "author_id": "am01"
                                },
                                {
                                    "id": "silent-paitent",
                                    "title": "Silent Paitent",
                                    "price": "399",
                                    "author_id": "al67"
                                },
                                {
                                    "id": "sons-of-fortune",
                                    "title": "Sons of Fortune",
                                    "price": "450",
                                    "author_id": "ja123"
                                },
                                {
                                    "id": "summons",
                                    "title": "Summons",
                                    "price": "250",
                                    "author_id": "jg89"
                                },
                                {
                                    "id": "the-accursed-god",
                                    "title": "The Accursed God",
                                    "price": "399",
                                    "author_id": "vdm56"
                                }
                            ]
                        },
                        "text/html": [
                            "<table>",
                            "<tr><th>id</th><th>title</th><th>price</th><th>author_id</th></tr>",
                            "<tr><td>five-point-someone</td><td>Five Point SomeOne</td><td>250</td><td>cb23</td></tr>",
                            "<tr><td>harry-potter-1</td><td>Harry Potter and the Soccers Stone</td><td>250</td><td>jkr78</td></tr>",
                            "<tr><td>harry-potter-2</td><td>Harry Potter and the Chambers of Secrets</td><td>350</td><td>jkr78</td></tr>",
                            "<tr><td>harry-potter-3</td><td>Harry Potter and the Prisoner of Askaban</td><td>350</td><td>jkr78</td></tr>",
                            "<tr><td>harry-potter-4</td><td>Harry Potter and the Goblet of Fire</td><td>450</td><td>jkr78</td></tr>",
                            "<tr><td>harry-potter-5</td><td>Harry Potter and the Order of Phoenix</td><td>450</td><td>jkr78</td></tr>",
                            "<tr><td>harry-potter-6</td><td>Harry Potter and the Half Blood Prince</td><td>450</td><td>jkr78</td></tr>",
                            "<tr><td>harry-potter-7</td><td>Harry Potter and the Deathly Hollows</td><td>350</td><td>jkr78</td></tr>",
                            "<tr><td>kane-and-abel</td><td>Kane and Abel</td><td>450</td><td>ja123</td></tr>",
                            "<tr><td>kurukshetra</td><td>Kurukshetra</td><td>450</td><td>rsd45</td></tr>",
                            "<tr><td>manas</td><td>Manas</td><td>199</td><td>vdm56</td></tr>",
                            "<tr><td>rashmirathi</td><td>Rashmirathi</td><td>190</td><td>rsd45</td></tr>",
                            "<tr><td>scion-of-ikshavaku</td><td>The Scion of Ikshavaku</td><td>300</td><td>am01</td></tr>",
                            "<tr><td>silent-paitent</td><td>Silent Paitent</td><td>399</td><td>al67</td></tr>",
                            "<tr><td>sons-of-fortune</td><td>Sons of Fortune</td><td>450</td><td>ja123</td></tr>",
                            "<tr><td>summons</td><td>Summons</td><td>250</td><td>jg89</td></tr>",
                            "<tr><td>the-accursed-god</td><td>The Accursed God</td><td>399</td><td>vdm56</td></tr>",
                            "</table>"
                        ]
                    }
                }
            ],
            "execution_count": 56
        },
        {
            "cell_type": "code",
            "source": [
                "insert into authors (author_id,author_name,author_bio) \r\n",
                "values\r\n",
                " ('am01','Amish','Wrote 1 book');"
            ],
            "metadata": {
                "language": "sql",
                "azdata_cell_guid": "12e04d7f-58f7-4fdd-85d9-d27d5e1ccde9",
                "tags": []
            },
            "outputs": [
                {
                    "output_type": "display_data",
                    "data": {
                        "text/html": "(1 row affected)"
                    },
                    "metadata": {}
                },
                {
                    "output_type": "display_data",
                    "data": {
                        "text/html": "Total execution time: 00:00:00.073"
                    },
                    "metadata": {}
                }
            ],
            "execution_count": 30
        },
        {
            "cell_type": "code",
            "source": [
                "select * from authors\r\n",
                ""
            ],
            "metadata": {
                "language": "sql",
                "azdata_cell_guid": "a6091159-a231-4e90-b401-b863df0a77ec"
            },
            "outputs": [
                {
                    "output_type": "display_data",
                    "data": {
                        "text/html": "(8 rows affected)"
                    },
                    "metadata": {}
                },
                {
                    "output_type": "display_data",
                    "data": {
                        "text/html": "Total execution time: 00:00:00.004"
                    },
                    "metadata": {}
                },
                {
                    "output_type": "execute_result",
                    "metadata": {},
                    "execution_count": 33,
                    "data": {
                        "application/vnd.dataresource+json": {
                            "schema": {
                                "fields": [
                                    {
                                        "name": "author_id"
                                    },
                                    {
                                        "name": "author_name"
                                    },
                                    {
                                        "name": "author_bio"
                                    }
                                ]
                            },
                            "data": [
                                {
                                    "author_id": "al67",
                                    "author_name": "Alex",
                                    "author_bio": "Wrote one book"
                                },
                                {
                                    "author_id": "am01",
                                    "author_name": "Amish",
                                    "author_bio": "Wrote 1 book"
                                },
                                {
                                    "author_id": "cb23",
                                    "author_name": "Chetan Baghat",
                                    "author_bio": "five point someone is written by Chetan"
                                },
                                {
                                    "author_id": "ja123",
                                    "author_name": "Jeffery Archer",
                                    "author_bio": "Wrote some book"
                                },
                                {
                                    "author_id": "jg89",
                                    "author_name": "John Grisham",
                                    "author_bio": "Wrote 1 book"
                                },
                                {
                                    "author_id": "jkr78",
                                    "author_name": "J K Rowling",
                                    "author_bio": "Harry potter series is written by J K Rowling"
                                },
                                {
                                    "author_id": "rsd45",
                                    "author_name": "Ramdhari Singh Dinkar",
                                    "author_bio": "Wrote 2 books recorded in database"
                                },
                                {
                                    "author_id": "vdm56",
                                    "author_name": "Vivek Dutta Mishra",
                                    "author_bio": "Wrote 2 books"
                                }
                            ]
                        },
                        "text/html": [
                            "<table>",
                            "<tr><th>author_id</th><th>author_name</th><th>author_bio</th></tr>",
                            "<tr><td>al67</td><td>Alex</td><td>Wrote one book</td></tr>",
                            "<tr><td>am01</td><td>Amish</td><td>Wrote 1 book</td></tr>",
                            "<tr><td>cb23</td><td>Chetan Baghat</td><td>five point someone is written by Chetan</td></tr>",
                            "<tr><td>ja123</td><td>Jeffery Archer</td><td>Wrote some book</td></tr>",
                            "<tr><td>jg89</td><td>John Grisham</td><td>Wrote 1 book</td></tr>",
                            "<tr><td>jkr78</td><td>J K Rowling</td><td>Harry potter series is written by J K Rowling</td></tr>",
                            "<tr><td>rsd45</td><td>Ramdhari Singh Dinkar</td><td>Wrote 2 books recorded in database</td></tr>",
                            "<tr><td>vdm56</td><td>Vivek Dutta Mishra</td><td>Wrote 2 books</td></tr>",
                            "</table>"
                        ]
                    }
                }
            ],
            "execution_count": 33
        },
        {
            "cell_type": "code",
            "source": [
                "\r\n",
                "CREATE TABLE Users (\r\n",
                "    userid INT PRIMARY KEY,\r\n",
                "    username VARCHAR(255),\r\n",
                "    password VARCHAR(255)\r\n",
                ");"
            ],
            "metadata": {
                "language": "sql",
                "azdata_cell_guid": "f223001f-6820-423c-bcb0-0021136844d8"
            },
            "outputs": [
                {
                    "output_type": "display_data",
                    "data": {
                        "text/html": "Commands completed successfully."
                    },
                    "metadata": {}
                },
                {
                    "output_type": "display_data",
                    "data": {
                        "text/html": "Total execution time: 00:00:00.072"
                    },
                    "metadata": {}
                }
            ],
            "execution_count": 57
        },
        {
            "cell_type": "code",
            "source": [
                "\r\n",
                "INSERT  \r\n",
                "\r\n",
                "    INTO  \r\n",
                "\r\n",
                "        Users (userid,username,password) \r\n",
                "\r\n",
                "    VALUES \r\n",
                "\r\n",
                "        \r\n",
                "        (1,'Prerana','prer123'),\r\n",
                "        (2,'Alex','alex@123'),\r\n",
                "        (3,'Radhika','radha@123');"
            ],
            "metadata": {
                "language": "sql",
                "azdata_cell_guid": "f0807de6-f4a0-480a-99ef-e33972ace71e"
            },
            "outputs": [
                {
                    "output_type": "display_data",
                    "data": {
                        "text/html": "(3 rows affected)"
                    },
                    "metadata": {}
                },
                {
                    "output_type": "display_data",
                    "data": {
                        "text/html": "Total execution time: 00:00:00.106"
                    },
                    "metadata": {}
                }
            ],
            "execution_count": 58
        },
        {
            "cell_type": "code",
            "source": [
                "\r\n",
                "CREATE TABLE Reviews (\r\n",
                "    reviewid INT ,\r\n",
                "    bookid VARCHAR(100) FOREIGN KEY (bookid) REFERENCES Books(id),\r\n",
                "    userid INT FOREIGN KEY (userid) REFERENCES Users(userid),\r\n",
                "    rating INT,\r\n",
                "    review_text TEXT\r\n",
                ");\r\n",
                "    "
            ],
            "metadata": {
                "language": "sql",
                "azdata_cell_guid": "99ae5146-8b03-41bf-9085-3fa5f7e64d35"
            },
            "outputs": [
                {
                    "output_type": "display_data",
                    "data": {
                        "text/html": "Commands completed successfully."
                    },
                    "metadata": {}
                },
                {
                    "output_type": "display_data",
                    "data": {
                        "text/html": "Total execution time: 00:00:00.074"
                    },
                    "metadata": {}
                }
            ],
            "execution_count": 63
        },
        {
            "cell_type": "code",
            "source": [
                "INSERT INTO  \r\n",
                "    REVIEWS(reviewid, bookid,userid, rating,review_text) \r\n",
                "VALUES \r\n",
                "    (1,'kane-and-abel',1,4,'Nice Book'),\r\n",
                "    (2,'rashmirathi',2,3.5,'Good book'), \r\n",
                "    (3,'sons-of-fortune',3,4.5,'Thoughtfull'), \r\n",
                "    (4,'manas',1,4.7,'Good Book'), \r\n",
                "    (5,'summons',2,3.9,'Amazing'), \r\n",
                "    (6,'five-point-someone',3,3,'Great work'), \r\n",
                "    (7,'scion-of-ikshavaku',1,3.8,'Nice creativity'), \r\n",
                "    (1,'kane-and-abel',1,4,'Nice Book'),\r\n",
                "    (8,'the-accursed-god',2,4.2,'Nice'); "
            ],
            "metadata": {
                "language": "sql",
                "azdata_cell_guid": "41b78008-8a51-443f-ae50-3bd5452dd885"
            },
            "outputs": [
                {
                    "output_type": "display_data",
                    "data": {
                        "text/html": "(9 rows affected)"
                    },
                    "metadata": {}
                },
                {
                    "output_type": "display_data",
                    "data": {
                        "text/html": "Total execution time: 00:00:00.085"
                    },
                    "metadata": {}
                }
            ],
            "execution_count": 64
        },
        {
            "cell_type": "code",
            "source": [
                "\r\n",
                "SELECT * from Authors;"
            ],
            "metadata": {
                "language": "sql",
                "azdata_cell_guid": "ea6e030c-391d-4fa1-952d-a9f7db194ce0"
            },
            "outputs": [
                {
                    "output_type": "display_data",
                    "data": {
                        "text/html": "(8 rows affected)"
                    },
                    "metadata": {}
                },
                {
                    "output_type": "display_data",
                    "data": {
                        "text/html": "Total execution time: 00:00:00.011"
                    },
                    "metadata": {}
                },
                {
                    "output_type": "execute_result",
                    "metadata": {},
                    "execution_count": 65,
                    "data": {
                        "application/vnd.dataresource+json": {
                            "schema": {
                                "fields": [
                                    {
                                        "name": "author_id"
                                    },
                                    {
                                        "name": "author_name"
                                    },
                                    {
                                        "name": "author_bio"
                                    }
                                ]
                            },
                            "data": [
                                {
                                    "author_id": "al67",
                                    "author_name": "Alex",
                                    "author_bio": "Wrote one book"
                                },
                                {
                                    "author_id": "am01",
                                    "author_name": "Amish",
                                    "author_bio": "Wrote 1 book"
                                },
                                {
                                    "author_id": "cb23",
                                    "author_name": "Chetan Baghat",
                                    "author_bio": "five point someone is written by Chetan"
                                },
                                {
                                    "author_id": "ja123",
                                    "author_name": "Jeffery Archer",
                                    "author_bio": "Wrote some book"
                                },
                                {
                                    "author_id": "jg89",
                                    "author_name": "John Grisham",
                                    "author_bio": "Wrote 1 book"
                                },
                                {
                                    "author_id": "jkr78",
                                    "author_name": "J K Rowling",
                                    "author_bio": "Harry potter series is written by J K Rowling"
                                },
                                {
                                    "author_id": "rsd45",
                                    "author_name": "Ramdhari Singh Dinkar",
                                    "author_bio": "Wrote 2 books recorded in database"
                                },
                                {
                                    "author_id": "vdm56",
                                    "author_name": "Vivek Dutta Mishra",
                                    "author_bio": "Wrote 2 books"
                                }
                            ]
                        },
                        "text/html": [
                            "<table>",
                            "<tr><th>author_id</th><th>author_name</th><th>author_bio</th></tr>",
                            "<tr><td>al67</td><td>Alex</td><td>Wrote one book</td></tr>",
                            "<tr><td>am01</td><td>Amish</td><td>Wrote 1 book</td></tr>",
                            "<tr><td>cb23</td><td>Chetan Baghat</td><td>five point someone is written by Chetan</td></tr>",
                            "<tr><td>ja123</td><td>Jeffery Archer</td><td>Wrote some book</td></tr>",
                            "<tr><td>jg89</td><td>John Grisham</td><td>Wrote 1 book</td></tr>",
                            "<tr><td>jkr78</td><td>J K Rowling</td><td>Harry potter series is written by J K Rowling</td></tr>",
                            "<tr><td>rsd45</td><td>Ramdhari Singh Dinkar</td><td>Wrote 2 books recorded in database</td></tr>",
                            "<tr><td>vdm56</td><td>Vivek Dutta Mishra</td><td>Wrote 2 books</td></tr>",
                            "</table>"
                        ]
                    }
                }
            ],
            "execution_count": 65
        },
        {
            "cell_type": "code",
            "source": [
                "\r\n",
                "select * from Users;"
            ],
            "metadata": {
                "language": "sql",
                "azdata_cell_guid": "790b62e2-197e-4c57-97db-90e78edbabf7"
            },
            "outputs": [
                {
                    "output_type": "display_data",
                    "data": {
                        "text/html": "(3 rows affected)"
                    },
                    "metadata": {}
                },
                {
                    "output_type": "display_data",
                    "data": {
                        "text/html": "Total execution time: 00:00:00.008"
                    },
                    "metadata": {}
                },
                {
                    "output_type": "execute_result",
                    "metadata": {},
                    "execution_count": 66,
                    "data": {
                        "application/vnd.dataresource+json": {
                            "schema": {
                                "fields": [
                                    {
                                        "name": "userid"
                                    },
                                    {
                                        "name": "username"
                                    },
                                    {
                                        "name": "password"
                                    }
                                ]
                            },
                            "data": [
                                {
                                    "userid": "1",
                                    "username": "Prerana",
                                    "password": "prer123"
                                },
                                {
                                    "userid": "2",
                                    "username": "Alex",
                                    "password": "alex@123"
                                },
                                {
                                    "userid": "3",
                                    "username": "Radhika",
                                    "password": "radha@123"
                                }
                            ]
                        },
                        "text/html": [
                            "<table>",
                            "<tr><th>userid</th><th>username</th><th>password</th></tr>",
                            "<tr><td>1</td><td>Prerana</td><td>prer123</td></tr>",
                            "<tr><td>2</td><td>Alex</td><td>alex@123</td></tr>",
                            "<tr><td>3</td><td>Radhika</td><td>radha@123</td></tr>",
                            "</table>"
                        ]
                    }
                }
            ],
            "execution_count": 66
        },
        {
            "cell_type": "code",
            "source": [
                "\r\n",
                "SELECT * FROM Books;\r\n",
                "     "
            ],
            "metadata": {
                "language": "sql",
                "azdata_cell_guid": "01c359f0-dc55-468b-b13a-44e1f17456ad"
            },
            "outputs": [
                {
                    "output_type": "display_data",
                    "data": {
                        "text/html": "(17 rows affected)"
                    },
                    "metadata": {}
                },
                {
                    "output_type": "display_data",
                    "data": {
                        "text/html": "Total execution time: 00:00:00.007"
                    },
                    "metadata": {}
                },
                {
                    "output_type": "execute_result",
                    "metadata": {},
                    "execution_count": 67,
                    "data": {
                        "application/vnd.dataresource+json": {
                            "schema": {
                                "fields": [
                                    {
                                        "name": "id"
                                    },
                                    {
                                        "name": "title"
                                    },
                                    {
                                        "name": "price"
                                    },
                                    {
                                        "name": "author_id"
                                    }
                                ]
                            },
                            "data": [
                                {
                                    "id": "five-point-someone",
                                    "title": "Five Point SomeOne",
                                    "price": "250",
                                    "author_id": "cb23"
                                },
                                {
                                    "id": "harry-potter-1",
                                    "title": "Harry Potter and the Soccers Stone",
                                    "price": "250",
                                    "author_id": "jkr78"
                                },
                                {
                                    "id": "harry-potter-2",
                                    "title": "Harry Potter and the Chambers of Secrets",
                                    "price": "350",
                                    "author_id": "jkr78"
                                },
                                {
                                    "id": "harry-potter-3",
                                    "title": "Harry Potter and the Prisoner of Askaban",
                                    "price": "350",
                                    "author_id": "jkr78"
                                },
                                {
                                    "id": "harry-potter-4",
                                    "title": "Harry Potter and the Goblet of Fire",
                                    "price": "450",
                                    "author_id": "jkr78"
                                },
                                {
                                    "id": "harry-potter-5",
                                    "title": "Harry Potter and the Order of Phoenix",
                                    "price": "450",
                                    "author_id": "jkr78"
                                },
                                {
                                    "id": "harry-potter-6",
                                    "title": "Harry Potter and the Half Blood Prince",
                                    "price": "450",
                                    "author_id": "jkr78"
                                },
                                {
                                    "id": "harry-potter-7",
                                    "title": "Harry Potter and the Deathly Hollows",
                                    "price": "350",
                                    "author_id": "jkr78"
                                },
                                {
                                    "id": "kane-and-abel",
                                    "title": "Kane and Abel",
                                    "price": "450",
                                    "author_id": "ja123"
                                },
                                {
                                    "id": "kurukshetra",
                                    "title": "Kurukshetra",
                                    "price": "450",
                                    "author_id": "rsd45"
                                },
                                {
                                    "id": "manas",
                                    "title": "Manas",
                                    "price": "199",
                                    "author_id": "vdm56"
                                },
                                {
                                    "id": "rashmirathi",
                                    "title": "Rashmirathi",
                                    "price": "190",
                                    "author_id": "rsd45"
                                },
                                {
                                    "id": "scion-of-ikshavaku",
                                    "title": "The Scion of Ikshavaku",
                                    "price": "300",
                                    "author_id": "am01"
                                },
                                {
                                    "id": "silent-paitent",
                                    "title": "Silent Paitent",
                                    "price": "399",
                                    "author_id": "al67"
                                },
                                {
                                    "id": "sons-of-fortune",
                                    "title": "Sons of Fortune",
                                    "price": "450",
                                    "author_id": "ja123"
                                },
                                {
                                    "id": "summons",
                                    "title": "Summons",
                                    "price": "250",
                                    "author_id": "jg89"
                                },
                                {
                                    "id": "the-accursed-god",
                                    "title": "The Accursed God",
                                    "price": "399",
                                    "author_id": "vdm56"
                                }
                            ]
                        },
                        "text/html": [
                            "<table>",
                            "<tr><th>id</th><th>title</th><th>price</th><th>author_id</th></tr>",
                            "<tr><td>five-point-someone</td><td>Five Point SomeOne</td><td>250</td><td>cb23</td></tr>",
                            "<tr><td>harry-potter-1</td><td>Harry Potter and the Soccers Stone</td><td>250</td><td>jkr78</td></tr>",
                            "<tr><td>harry-potter-2</td><td>Harry Potter and the Chambers of Secrets</td><td>350</td><td>jkr78</td></tr>",
                            "<tr><td>harry-potter-3</td><td>Harry Potter and the Prisoner of Askaban</td><td>350</td><td>jkr78</td></tr>",
                            "<tr><td>harry-potter-4</td><td>Harry Potter and the Goblet of Fire</td><td>450</td><td>jkr78</td></tr>",
                            "<tr><td>harry-potter-5</td><td>Harry Potter and the Order of Phoenix</td><td>450</td><td>jkr78</td></tr>",
                            "<tr><td>harry-potter-6</td><td>Harry Potter and the Half Blood Prince</td><td>450</td><td>jkr78</td></tr>",
                            "<tr><td>harry-potter-7</td><td>Harry Potter and the Deathly Hollows</td><td>350</td><td>jkr78</td></tr>",
                            "<tr><td>kane-and-abel</td><td>Kane and Abel</td><td>450</td><td>ja123</td></tr>",
                            "<tr><td>kurukshetra</td><td>Kurukshetra</td><td>450</td><td>rsd45</td></tr>",
                            "<tr><td>manas</td><td>Manas</td><td>199</td><td>vdm56</td></tr>",
                            "<tr><td>rashmirathi</td><td>Rashmirathi</td><td>190</td><td>rsd45</td></tr>",
                            "<tr><td>scion-of-ikshavaku</td><td>The Scion of Ikshavaku</td><td>300</td><td>am01</td></tr>",
                            "<tr><td>silent-paitent</td><td>Silent Paitent</td><td>399</td><td>al67</td></tr>",
                            "<tr><td>sons-of-fortune</td><td>Sons of Fortune</td><td>450</td><td>ja123</td></tr>",
                            "<tr><td>summons</td><td>Summons</td><td>250</td><td>jg89</td></tr>",
                            "<tr><td>the-accursed-god</td><td>The Accursed God</td><td>399</td><td>vdm56</td></tr>",
                            "</table>"
                        ]
                    }
                }
            ],
            "execution_count": 67
        },
        {
            "cell_type": "code",
            "source": [
                "SELECT * FROM Reviews;"
            ],
            "metadata": {
                "language": "sql",
                "azdata_cell_guid": "d1d06c86-aeda-4399-ba3c-aa19fe355fa5"
            },
            "outputs": [
                {
                    "output_type": "display_data",
                    "data": {
                        "text/html": "(9 rows affected)"
                    },
                    "metadata": {}
                },
                {
                    "output_type": "display_data",
                    "data": {
                        "text/html": "Total execution time: 00:00:00.084"
                    },
                    "metadata": {}
                },
                {
                    "output_type": "execute_result",
                    "metadata": {},
                    "execution_count": 68,
                    "data": {
                        "application/vnd.dataresource+json": {
                            "schema": {
                                "fields": [
                                    {
                                        "name": "reviewid"
                                    },
                                    {
                                        "name": "bookid"
                                    },
                                    {
                                        "name": "userid"
                                    },
                                    {
                                        "name": "rating"
                                    },
                                    {
                                        "name": "review_text"
                                    }
                                ]
                            },
                            "data": [
                                {
                                    "reviewid": "1",
                                    "bookid": "kane-and-abel",
                                    "userid": "1",
                                    "rating": "4",
                                    "review_text": "Nice Book"
                                },
                                {
                                    "reviewid": "2",
                                    "bookid": "rashmirathi",
                                    "userid": "2",
                                    "rating": "3",
                                    "review_text": "Good book"
                                },
                                {
                                    "reviewid": "3",
                                    "bookid": "sons-of-fortune",
                                    "userid": "3",
                                    "rating": "4",
                                    "review_text": "Thoughtfull"
                                },
                                {
                                    "reviewid": "4",
                                    "bookid": "manas",
                                    "userid": "1",
                                    "rating": "4",
                                    "review_text": "Good Book"
                                },
                                {
                                    "reviewid": "5",
                                    "bookid": "summons",
                                    "userid": "2",
                                    "rating": "3",
                                    "review_text": "Amazing"
                                },
                                {
                                    "reviewid": "6",
                                    "bookid": "five-point-someone",
                                    "userid": "3",
                                    "rating": "3",
                                    "review_text": "Great work"
                                },
                                {
                                    "reviewid": "7",
                                    "bookid": "scion-of-ikshavaku",
                                    "userid": "1",
                                    "rating": "3",
                                    "review_text": "Nice creativity"
                                },
                                {
                                    "reviewid": "1",
                                    "bookid": "kane-and-abel",
                                    "userid": "1",
                                    "rating": "4",
                                    "review_text": "Nice Book"
                                },
                                {
                                    "reviewid": "8",
                                    "bookid": "the-accursed-god",
                                    "userid": "2",
                                    "rating": "4",
                                    "review_text": "Nice"
                                }
                            ]
                        },
                        "text/html": [
                            "<table>",
                            "<tr><th>reviewid</th><th>bookid</th><th>userid</th><th>rating</th><th>review_text</th></tr>",
                            "<tr><td>1</td><td>kane-and-abel</td><td>1</td><td>4</td><td>Nice Book</td></tr>",
                            "<tr><td>2</td><td>rashmirathi</td><td>2</td><td>3</td><td>Good book</td></tr>",
                            "<tr><td>3</td><td>sons-of-fortune</td><td>3</td><td>4</td><td>Thoughtfull</td></tr>",
                            "<tr><td>4</td><td>manas</td><td>1</td><td>4</td><td>Good Book</td></tr>",
                            "<tr><td>5</td><td>summons</td><td>2</td><td>3</td><td>Amazing</td></tr>",
                            "<tr><td>6</td><td>five-point-someone</td><td>3</td><td>3</td><td>Great work</td></tr>",
                            "<tr><td>7</td><td>scion-of-ikshavaku</td><td>1</td><td>3</td><td>Nice creativity</td></tr>",
                            "<tr><td>1</td><td>kane-and-abel</td><td>1</td><td>4</td><td>Nice Book</td></tr>",
                            "<tr><td>8</td><td>the-accursed-god</td><td>2</td><td>4</td><td>Nice</td></tr>",
                            "</table>"
                        ]
                    }
                }
            ],
            "execution_count": 68
        },
        {
            "cell_type": "code",
            "source": [
                "SELECT B.title, R.rating, R.review_text\r\n",
                "FROM Reviews R\r\n",
                "JOIN Books B ON R.bookid = B.id\r\n",
                "WHERE B.author_id = 'vdm56';"
            ],
            "metadata": {
                "language": "sql",
                "azdata_cell_guid": "04dedafb-dccc-4955-ac9b-a2a047024987"
            },
            "outputs": [
                {
                    "output_type": "display_data",
                    "data": {
                        "text/html": "(2 rows affected)"
                    },
                    "metadata": {}
                },
                {
                    "output_type": "display_data",
                    "data": {
                        "text/html": "Total execution time: 00:00:00.009"
                    },
                    "metadata": {}
                },
                {
                    "output_type": "execute_result",
                    "metadata": {},
                    "execution_count": 72,
                    "data": {
                        "application/vnd.dataresource+json": {
                            "schema": {
                                "fields": [
                                    {
                                        "name": "title"
                                    },
                                    {
                                        "name": "rating"
                                    },
                                    {
                                        "name": "review_text"
                                    }
                                ]
                            },
                            "data": [
                                {
                                    "title": "Manas",
                                    "rating": "4",
                                    "review_text": "Good Book"
                                },
                                {
                                    "title": "The Accursed God",
                                    "rating": "4",
                                    "review_text": "Nice"
                                }
                            ]
                        },
                        "text/html": [
                            "<table>",
                            "<tr><th>title</th><th>rating</th><th>review_text</th></tr>",
                            "<tr><td>Manas</td><td>4</td><td>Good Book</td></tr>",
                            "<tr><td>The Accursed God</td><td>4</td><td>Nice</td></tr>",
                            "</table>"
                        ]
                    }
                }
            ],
            "execution_count": 72
        },
        {
            "cell_type": "code",
            "source": [
                "SELECT B.title, R.rating, R.review_text \r\n",
                "                      FROM Reviews R\r\n",
                "                      JOIN Books B ON R.bookid = B.id\r\n",
                "                      WHERE R.reviewid = 1;"
            ],
            "metadata": {
                "language": "sql",
                "azdata_cell_guid": "c562f3d2-a52f-46bc-b45d-c0e0e16bb95d"
            },
            "outputs": [
                {
                    "output_type": "display_data",
                    "data": {
                        "text/html": "(2 rows affected)"
                    },
                    "metadata": {}
                },
                {
                    "output_type": "display_data",
                    "data": {
                        "text/html": "Total execution time: 00:00:00.009"
                    },
                    "metadata": {}
                },
                {
                    "output_type": "execute_result",
                    "metadata": {},
                    "execution_count": 75,
                    "data": {
                        "application/vnd.dataresource+json": {
                            "schema": {
                                "fields": [
                                    {
                                        "name": "title"
                                    },
                                    {
                                        "name": "rating"
                                    },
                                    {
                                        "name": "review_text"
                                    }
                                ]
                            },
                            "data": [
                                {
                                    "title": "Kane and Abel",
                                    "rating": "4",
                                    "review_text": "Nice Book"
                                },
                                {
                                    "title": "Kane and Abel",
                                    "rating": "4",
                                    "review_text": "Nice Book"
                                }
                            ]
                        },
                        "text/html": [
                            "<table>",
                            "<tr><th>title</th><th>rating</th><th>review_text</th></tr>",
                            "<tr><td>Kane and Abel</td><td>4</td><td>Nice Book</td></tr>",
                            "<tr><td>Kane and Abel</td><td>4</td><td>Nice Book</td></tr>",
                            "</table>"
                        ]
                    }
                }
            ],
            "execution_count": 75
        },
        {
            "cell_type": "code",
            "source": [
                "\r\n",
                "SELECT R.userid,B.title, R.rating, R.review_text\r\n",
                "FROM Reviews R\r\n",
                "JOIN Books B ON R.bookid = B.id\r\n",
                "WHERE R.userid = 1;\r\n",
                "     "
            ],
            "metadata": {
                "language": "sql",
                "azdata_cell_guid": "7bb18d77-452a-466f-9ba1-8aa407a546d5"
            },
            "outputs": [
                {
                    "output_type": "display_data",
                    "data": {
                        "text/html": "(4 rows affected)"
                    },
                    "metadata": {}
                },
                {
                    "output_type": "display_data",
                    "data": {
                        "text/html": "Total execution time: 00:00:00.027"
                    },
                    "metadata": {}
                },
                {
                    "output_type": "execute_result",
                    "metadata": {},
                    "execution_count": 76,
                    "data": {
                        "application/vnd.dataresource+json": {
                            "schema": {
                                "fields": [
                                    {
                                        "name": "userid"
                                    },
                                    {
                                        "name": "title"
                                    },
                                    {
                                        "name": "rating"
                                    },
                                    {
                                        "name": "review_text"
                                    }
                                ]
                            },
                            "data": [
                                {
                                    "userid": "1",
                                    "title": "Kane and Abel",
                                    "rating": "4",
                                    "review_text": "Nice Book"
                                },
                                {
                                    "userid": "1",
                                    "title": "Manas",
                                    "rating": "4",
                                    "review_text": "Good Book"
                                },
                                {
                                    "userid": "1",
                                    "title": "The Scion of Ikshavaku",
                                    "rating": "3",
                                    "review_text": "Nice creativity"
                                },
                                {
                                    "userid": "1",
                                    "title": "Kane and Abel",
                                    "rating": "4",
                                    "review_text": "Nice Book"
                                }
                            ]
                        },
                        "text/html": [
                            "<table>",
                            "<tr><th>userid</th><th>title</th><th>rating</th><th>review_text</th></tr>",
                            "<tr><td>1</td><td>Kane and Abel</td><td>4</td><td>Nice Book</td></tr>",
                            "<tr><td>1</td><td>Manas</td><td>4</td><td>Good Book</td></tr>",
                            "<tr><td>1</td><td>The Scion of Ikshavaku</td><td>3</td><td>Nice creativity</td></tr>",
                            "<tr><td>1</td><td>Kane and Abel</td><td>4</td><td>Nice Book</td></tr>",
                            "</table>"
                        ]
                    }
                }
            ],
            "execution_count": 76
        }
    ]
}